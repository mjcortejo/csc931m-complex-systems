{
 "cells": [
  {
   "cell_type": "code",
   "execution_count": 18,
   "metadata": {},
   "outputs": [
    {
     "name": "stderr",
     "output_type": "stream",
     "text": [
      "<>:29: SyntaxWarning: 'tuple' object is not callable; perhaps you missed a comma?\n",
      "<>:29: SyntaxWarning: 'tuple' object is not callable; perhaps you missed a comma?\n",
      "/var/folders/mh/c1r45wt16rbb6hzm39zxyq400000gn/T/ipykernel_2042/2911025758.py:29: SyntaxWarning: 'tuple' object is not callable; perhaps you missed a comma?\n",
      "  ('P3', 'C3', 5), (22, 'C3', 3), ('C3', 17, 4),(17, 'C3', 5) #Gallery Parkade\n"
     ]
    },
    {
     "ename": "TypeError",
     "evalue": "'tuple' object is not callable",
     "output_type": "error",
     "traceback": [
      "\u001b[0;31m---------------------------------------------------------------------------\u001b[0m",
      "\u001b[0;31mTypeError\u001b[0m                                 Traceback (most recent call last)",
      "Cell \u001b[0;32mIn[18], line 46\u001b[0m\n\u001b[1;32m     28\u001b[0m     edge_list \u001b[39m=\u001b[39m [\n\u001b[1;32m     29\u001b[0m         (\u001b[39m'\u001b[39m\u001b[39mP3\u001b[39m\u001b[39m'\u001b[39m, \u001b[39m'\u001b[39m\u001b[39mC3\u001b[39m\u001b[39m'\u001b[39m, \u001b[39m5\u001b[39m), (\u001b[39m22\u001b[39m, \u001b[39m'\u001b[39m\u001b[39mC3\u001b[39m\u001b[39m'\u001b[39m, \u001b[39m3\u001b[39m), (\u001b[39m'\u001b[39m\u001b[39mC3\u001b[39m\u001b[39m'\u001b[39m, \u001b[39m17\u001b[39m, \u001b[39m4\u001b[39m),(\u001b[39m17\u001b[39m, \u001b[39m'\u001b[39m\u001b[39mC3\u001b[39m\u001b[39m'\u001b[39m, \u001b[39m5\u001b[39m) \u001b[39m#Gallery Parkade\u001b[39;00m\n\u001b[1;32m     30\u001b[0m         (\u001b[39m'\u001b[39m\u001b[39mE1\u001b[39m\u001b[39m'\u001b[39m, \u001b[39m5\u001b[39m, \u001b[39m20\u001b[39m),(\u001b[39m'\u001b[39m\u001b[39mE2\u001b[39m\u001b[39m'\u001b[39m, \u001b[39m3\u001b[39m, \u001b[39m20\u001b[39m),(\u001b[39m'\u001b[39m\u001b[39mE3\u001b[39m\u001b[39m'\u001b[39m, \u001b[39m21\u001b[39m, \u001b[39m20\u001b[39m),(\u001b[39m'\u001b[39m\u001b[39mE4\u001b[39m\u001b[39m'\u001b[39m, \u001b[39m24\u001b[39m, \u001b[39m20\u001b[39m),\n\u001b[0;32m   (...)\u001b[0m\n\u001b[1;32m     41\u001b[0m         (\u001b[39m21\u001b[39m, \u001b[39m16\u001b[39m, \u001b[39m10\u001b[39m), (\u001b[39m23\u001b[39m, \u001b[39m18\u001b[39m, \u001b[39m10\u001b[39m), (\u001b[39m24\u001b[39m, \u001b[39m23\u001b[39m, \u001b[39m10\u001b[39m), (\u001b[39m23\u001b[39m, \u001b[39m24\u001b[39m, \u001b[39m10\u001b[39m)\n\u001b[1;32m     42\u001b[0m     ]\n\u001b[1;32m     44\u001b[0m     \u001b[39mreturn\u001b[39;00m intersection_nodes, edge_list\n\u001b[0;32m---> 46\u001b[0m intersection_nodes, edge_list \u001b[39m=\u001b[39m bgc_layout()\n\u001b[1;32m     48\u001b[0m entry_nodes \u001b[39m=\u001b[39m []\n\u001b[1;32m     49\u001b[0m entry_edges \u001b[39m=\u001b[39m []\n",
      "Cell \u001b[0;32mIn[18], line 29\u001b[0m, in \u001b[0;36mbgc_layout\u001b[0;34m()\u001b[0m\n\u001b[1;32m      5\u001b[0m \u001b[39mdef\u001b[39;00m \u001b[39mbgc_layout\u001b[39m():\n\u001b[1;32m      6\u001b[0m     intersection_nodes \u001b[39m=\u001b[39m {\n\u001b[1;32m      7\u001b[0m         \u001b[39m'\u001b[39m\u001b[39mE1\u001b[39m\u001b[39m'\u001b[39m: (\u001b[39m600\u001b[39m, \u001b[39m80\u001b[39m), \n\u001b[1;32m      8\u001b[0m         \u001b[39m'\u001b[39m\u001b[39mE2\u001b[39m\u001b[39m'\u001b[39m: (\u001b[39m50\u001b[39m, \u001b[39m50\u001b[39m), \n\u001b[0;32m   (...)\u001b[0m\n\u001b[1;32m     26\u001b[0m \n\u001b[1;32m     27\u001b[0m     }\n\u001b[1;32m     28\u001b[0m     edge_list \u001b[39m=\u001b[39m [\n\u001b[0;32m---> 29\u001b[0m         (\u001b[39m'\u001b[39m\u001b[39mP3\u001b[39m\u001b[39m'\u001b[39m, \u001b[39m'\u001b[39m\u001b[39mC3\u001b[39m\u001b[39m'\u001b[39m, \u001b[39m5\u001b[39m), (\u001b[39m22\u001b[39m, \u001b[39m'\u001b[39m\u001b[39mC3\u001b[39m\u001b[39m'\u001b[39m, \u001b[39m3\u001b[39m), (\u001b[39m'\u001b[39m\u001b[39mC3\u001b[39m\u001b[39m'\u001b[39m, \u001b[39m17\u001b[39m, \u001b[39m4\u001b[39m),(\u001b[39m17\u001b[39;49m, \u001b[39m'\u001b[39;49m\u001b[39mC3\u001b[39;49m\u001b[39m'\u001b[39;49m, \u001b[39m5\u001b[39;49m) \u001b[39m#Gallery Parkade\u001b[39;49;00m\n\u001b[1;32m     30\u001b[0m         (\u001b[39m'\u001b[39;49m\u001b[39mE1\u001b[39;49m\u001b[39m'\u001b[39;49m, \u001b[39m5\u001b[39;49m, \u001b[39m20\u001b[39;49m),(\u001b[39m'\u001b[39m\u001b[39mE2\u001b[39m\u001b[39m'\u001b[39m, \u001b[39m3\u001b[39m, \u001b[39m20\u001b[39m),(\u001b[39m'\u001b[39m\u001b[39mE3\u001b[39m\u001b[39m'\u001b[39m, \u001b[39m21\u001b[39m, \u001b[39m20\u001b[39m),(\u001b[39m'\u001b[39m\u001b[39mE4\u001b[39m\u001b[39m'\u001b[39m, \u001b[39m24\u001b[39m, \u001b[39m20\u001b[39m),\n\u001b[1;32m     31\u001b[0m \n\u001b[1;32m     32\u001b[0m         (\u001b[39m3\u001b[39m, \u001b[39m4\u001b[39m, \u001b[39m10\u001b[39m),(\u001b[39m3\u001b[39m, \u001b[39m10\u001b[39m, \u001b[39m7\u001b[39m),\n\u001b[1;32m     33\u001b[0m         (\u001b[39m4\u001b[39m, \u001b[39m3\u001b[39m, \u001b[39m10\u001b[39m),(\u001b[39m4\u001b[39m, \u001b[39m5\u001b[39m, \u001b[39m10\u001b[39m),(\u001b[39m4\u001b[39m, \u001b[39m11\u001b[39m, \u001b[39m7\u001b[39m),\n\u001b[1;32m     34\u001b[0m         (\u001b[39m5\u001b[39m, \u001b[39m4\u001b[39m, \u001b[39m10\u001b[39m),(\u001b[39m5\u001b[39m, \u001b[39m12\u001b[39m, \u001b[39m7\u001b[39m),\n\u001b[1;32m     35\u001b[0m         (\u001b[39m16\u001b[39m, \u001b[39m17\u001b[39m, \u001b[39m10\u001b[39m),(\u001b[39m16\u001b[39m, \u001b[39m21\u001b[39m, \u001b[39m7\u001b[39m),\n\u001b[1;32m     36\u001b[0m         (\u001b[39m17\u001b[39m, \u001b[39m11\u001b[39m, \u001b[39m20\u001b[39m),(\u001b[39m17\u001b[39m, \u001b[39m18\u001b[39m, \u001b[39m10\u001b[39m),\n\u001b[1;32m     37\u001b[0m         (\u001b[39m18\u001b[39m, \u001b[39m12\u001b[39m, \u001b[39m20\u001b[39m),(\u001b[39m18\u001b[39m, \u001b[39m23\u001b[39m, \u001b[39m7\u001b[39m),\n\u001b[1;32m     38\u001b[0m         (\u001b[39m10\u001b[39m, \u001b[39m11\u001b[39m, \u001b[39m10\u001b[39m),(\u001b[39m10\u001b[39m, \u001b[39m16\u001b[39m, \u001b[39m20\u001b[39m),\n\u001b[1;32m     39\u001b[0m         (\u001b[39m11\u001b[39m, \u001b[39m4\u001b[39m, \u001b[39m7\u001b[39m),(\u001b[39m11\u001b[39m, \u001b[39m10\u001b[39m, \u001b[39m10\u001b[39m),\n\u001b[1;32m     40\u001b[0m         (\u001b[39m12\u001b[39m, \u001b[39m5\u001b[39m, \u001b[39m7\u001b[39m),(\u001b[39m12\u001b[39m, \u001b[39m11\u001b[39m, \u001b[39m10\u001b[39m),(\u001b[39m12\u001b[39m, \u001b[39m18\u001b[39m, \u001b[39m20\u001b[39m),\n\u001b[1;32m     41\u001b[0m         (\u001b[39m21\u001b[39m, \u001b[39m16\u001b[39m, \u001b[39m10\u001b[39m), (\u001b[39m23\u001b[39m, \u001b[39m18\u001b[39m, \u001b[39m10\u001b[39m), (\u001b[39m24\u001b[39m, \u001b[39m23\u001b[39m, \u001b[39m10\u001b[39m), (\u001b[39m23\u001b[39m, \u001b[39m24\u001b[39m, \u001b[39m10\u001b[39m)\n\u001b[1;32m     42\u001b[0m     ]\n\u001b[1;32m     44\u001b[0m     \u001b[39mreturn\u001b[39;00m intersection_nodes, edge_list\n",
      "\u001b[0;31mTypeError\u001b[0m: 'tuple' object is not callable"
     ]
    }
   ],
   "source": [
    "import networkx as nx\n",
    "\n",
    "G = nx.DiGraph()\n",
    "\n",
    "def bgc_layout():\n",
    "    intersection_nodes = {\n",
    "        'E1': (600, 80), \n",
    "        'E2': (50, 50), \n",
    "        'E3': (100, 500),\n",
    "        'E4': (650, 500),\n",
    "        'P3': (450, 375),\n",
    "        'C3': (400, 375),\n",
    "        3: (300, 100),\n",
    "        4: (400, 100),\n",
    "        5: (500, 100),\n",
    "        10: (300, 150),\n",
    "        11: (400, 150),\n",
    "        12: (500, 150),\n",
    "        16: (300, 350),\n",
    "        17: (400, 350),\n",
    "        18: (500, 350),\n",
    "        21: (300, 400),\n",
    "        22: (400, 400),\n",
    "        23: (500, 400),\n",
    "        24: (600, 375)\n",
    "\n",
    "    }\n",
    "    edge_list = [\n",
    "        ('P3', 'C3', 5), (22, 'C3', 3), ('C3', 17, 4),(17, 'C3', 5) #Gallery Parkade\n",
    "        ('E1', 5, 20),('E2', 3, 20),('E3', 21, 20),('E4', 24, 20),\n",
    "\n",
    "        (3, 4, 10),(3, 10, 7),\n",
    "        (4, 3, 10),(4, 5, 10),(4, 11, 7),\n",
    "        (5, 4, 10),(5, 12, 7),\n",
    "        (16, 17, 10),(16, 21, 7),\n",
    "        (17, 11, 20),(17, 18, 10),\n",
    "        (18, 12, 20),(18, 23, 7),\n",
    "        (10, 11, 10),(10, 16, 20),\n",
    "        (11, 4, 7),(11, 10, 10),\n",
    "        (12, 5, 7),(12, 11, 10),(12, 18, 20),\n",
    "        (21, 16, 10), (23, 18, 10), (24, 23, 10), (23, 24, 10)\n",
    "    ]\n",
    "\n",
    "    return intersection_nodes, edge_list\n",
    "\n",
    "intersection_nodes, edge_list = bgc_layout()\n",
    "\n",
    "entry_nodes = []\n",
    "entry_edges = []\n",
    "self_edges = {}\n",
    "\n",
    "self_edges = {i: {'cars_occupied': [], 'weight': 0} for i in edge_list}\n",
    "\n",
    "for index, pos in intersection_nodes.items():\n",
    "    # Add index to the list of entries in the entry_nodes list.\n",
    "    if \"E\" in str(index) or \"P\" in str(index):\n",
    "        entry_nodes.append(index)\n",
    "    G.add_node(index, pos=pos)\n",
    "\n",
    "# Add edges to the graph.\n",
    "for edges in edge_list:\n",
    "    # Add edges to the entry edges list\n",
    "    G.add_edge(edges[0], edges[1])\n",
    "    if any(\"E\" in str(edge) for edge in edges):\n",
    "        #for now we will assume that the entry edge is at the first element\n",
    "        entry_edges.append(edges)\n",
    "\n",
    "        #add the inverse edge of the E's as well\n",
    "        self_edges[(edges[1], edges[0])] = {'cars_occupied': [], 'weight': 0}\n",
    "        G.add_edge(edges[1], edges[0])\n",
    "    elif any(\"P\" in str(edge) for edge in edges):\n",
    "        if \"P\" in str(edges[0]): #this one is more likely to happen for now\n",
    "            entry_edges.append((edges[0], edges[1]))\n",
    "\n",
    "            #add the inverse edge of the P's as well\n",
    "            self_edges[(edges[1], edges[0])] = {'cars_occupied': [], 'weight': 0}\n",
    "            G.add_edge(edges[1], edges[0])\n",
    "\n",
    "nx.draw(G, with_labels=True)\n",
    "\n",
    "origin_node = 'E4'\n",
    "next_destination_node = None\n",
    "final_destination_node = 'E3'\n",
    "\n",
    "def compute_shortest_path():\n",
    "    global next_destination_node\n",
    "    \"\"\"\n",
    "    Compute the car agent's shortest path using NetworkX's shortest_path function (default: Djikstra)\n",
    "    \"\"\"        \n",
    "    # edge_weight = tm.get_edge_weight(self.origin_node, self.final_destination_node)\n",
    "    # paths = nx.shortest_path(tm.G, self.origin_node, self.final_destination_node, weight='weight')\n",
    "    paths = nx.dijkstra_path(G, origin_node, final_destination_node, weight='weight')\n",
    "    print(f\"Paths {paths}\")\n",
    "\n",
    "    # print(f\"Car {self.index} from origin: {origin_node} paths: {paths[1:]}\")\n",
    "\n",
    "    node_paths = iter(paths[1:]) #ommitting first index, since it is already the origin\n",
    "    next_destination_node = next(node_paths)\n",
    "\n",
    "print(f\"Origin: {origin_node}, Next Destination: {next_destination_node}\")\n",
    "compute_shortest_path()\n",
    "print(f\"Origin: {origin_node}, Next Destination: {next_destination_node}\")"
   ]
  },
  {
   "cell_type": "code",
   "execution_count": 5,
   "metadata": {},
   "outputs": [
    {
     "name": "stdout",
     "output_type": "stream",
     "text": [
      "Origin: E3, Next Destination: None\n"
     ]
    },
    {
     "ename": "NetworkXNoPath",
     "evalue": "No path to E4.",
     "output_type": "error",
     "traceback": [
      "\u001b[0;31m---------------------------------------------------------------------------\u001b[0m",
      "\u001b[0;31mKeyError\u001b[0m                                  Traceback (most recent call last)",
      "File \u001b[0;32m~/Documents/DLSU/CSC931M_ComplexSystems/csc931m-complex-systems/lib/python3.11/site-packages/networkx/algorithms/shortest_paths/weighted.py:754\u001b[0m, in \u001b[0;36mmulti_source_dijkstra\u001b[0;34m(G, sources, target, cutoff, weight)\u001b[0m\n\u001b[1;32m    753\u001b[0m \u001b[39mtry\u001b[39;00m:\n\u001b[0;32m--> 754\u001b[0m     \u001b[39mreturn\u001b[39;00m (dist[target], paths[target])\n\u001b[1;32m    755\u001b[0m \u001b[39mexcept\u001b[39;00m \u001b[39mKeyError\u001b[39;00m \u001b[39mas\u001b[39;00m err:\n",
      "\u001b[0;31mKeyError\u001b[0m: 'E4'",
      "\nThe above exception was the direct cause of the following exception:\n",
      "\u001b[0;31mNetworkXNoPath\u001b[0m                            Traceback (most recent call last)",
      "Cell \u001b[0;32mIn[5], line 47\u001b[0m\n\u001b[1;32m     44\u001b[0m     next_destination_node \u001b[39m=\u001b[39m \u001b[39mnext\u001b[39m(node_paths)\n\u001b[1;32m     46\u001b[0m \u001b[39mprint\u001b[39m(\u001b[39mf\u001b[39m\u001b[39m\"\u001b[39m\u001b[39mOrigin: \u001b[39m\u001b[39m{\u001b[39;00morigin_node\u001b[39m}\u001b[39;00m\u001b[39m, Next Destination: \u001b[39m\u001b[39m{\u001b[39;00mnext_destination_node\u001b[39m}\u001b[39;00m\u001b[39m\"\u001b[39m)\n\u001b[0;32m---> 47\u001b[0m compute_shortest_path()\n\u001b[1;32m     48\u001b[0m \u001b[39mprint\u001b[39m(\u001b[39mf\u001b[39m\u001b[39m\"\u001b[39m\u001b[39mOrigin: \u001b[39m\u001b[39m{\u001b[39;00morigin_node\u001b[39m}\u001b[39;00m\u001b[39m, Next Destination: \u001b[39m\u001b[39m{\u001b[39;00mnext_destination_node\u001b[39m}\u001b[39;00m\u001b[39m\"\u001b[39m)\n",
      "Cell \u001b[0;32mIn[5], line 32\u001b[0m, in \u001b[0;36mcompute_shortest_path\u001b[0;34m()\u001b[0m\n\u001b[1;32m     27\u001b[0m \u001b[39m\u001b[39m\u001b[39m\"\"\"\u001b[39;00m\n\u001b[1;32m     28\u001b[0m \u001b[39mCompute the car agent's shortest path using NetworkX's shortest_path function (default: Djikstra)\u001b[39;00m\n\u001b[1;32m     29\u001b[0m \u001b[39m\"\"\"\u001b[39;00m        \n\u001b[1;32m     30\u001b[0m \u001b[39m# edge_weight = tm.get_edge_weight(self.origin_node, self.final_destination_node)\u001b[39;00m\n\u001b[1;32m     31\u001b[0m \u001b[39m# paths = nx.shortest_path(tm.G, self.origin_node, self.final_destination_node, weight='weight')\u001b[39;00m\n\u001b[0;32m---> 32\u001b[0m paths \u001b[39m=\u001b[39m nx\u001b[39m.\u001b[39;49mdijkstra_path(G, origin_node, final_destination_node, weight\u001b[39m=\u001b[39;49m\u001b[39m'\u001b[39;49m\u001b[39mweight\u001b[39;49m\u001b[39m'\u001b[39;49m)\n\u001b[1;32m     33\u001b[0m \u001b[39mprint\u001b[39m(\u001b[39mf\u001b[39m\u001b[39m\"\u001b[39m\u001b[39mPaths \u001b[39m\u001b[39m{\u001b[39;00mpaths\u001b[39m}\u001b[39;00m\u001b[39m\"\u001b[39m)\n\u001b[1;32m     35\u001b[0m is_illegal_path, node_to_remove \u001b[39m=\u001b[39m check_subsequence(paths)\n",
      "File \u001b[0;32m~/Documents/DLSU/CSC931M_ComplexSystems/csc931m-complex-systems/lib/python3.11/site-packages/networkx/algorithms/shortest_paths/weighted.py:167\u001b[0m, in \u001b[0;36mdijkstra_path\u001b[0;34m(G, source, target, weight)\u001b[0m\n\u001b[1;32m     81\u001b[0m \u001b[39mdef\u001b[39;00m \u001b[39mdijkstra_path\u001b[39m(G, source, target, weight\u001b[39m=\u001b[39m\u001b[39m\"\u001b[39m\u001b[39mweight\u001b[39m\u001b[39m\"\u001b[39m):\n\u001b[1;32m     82\u001b[0m \u001b[39m    \u001b[39m\u001b[39m\"\"\"Returns the shortest weighted path from source to target in G.\u001b[39;00m\n\u001b[1;32m     83\u001b[0m \n\u001b[1;32m     84\u001b[0m \u001b[39m    Uses Dijkstra's Method to compute the shortest weighted path\u001b[39;00m\n\u001b[0;32m   (...)\u001b[0m\n\u001b[1;32m    165\u001b[0m \u001b[39m    single_source_dijkstra\u001b[39;00m\n\u001b[1;32m    166\u001b[0m \u001b[39m    \"\"\"\u001b[39;00m\n\u001b[0;32m--> 167\u001b[0m     (length, path) \u001b[39m=\u001b[39m single_source_dijkstra(G, source, target\u001b[39m=\u001b[39;49mtarget, weight\u001b[39m=\u001b[39;49mweight)\n\u001b[1;32m    168\u001b[0m     \u001b[39mreturn\u001b[39;00m path\n",
      "File \u001b[0;32m~/Documents/DLSU/CSC931M_ComplexSystems/csc931m-complex-systems/lib/python3.11/site-packages/networkx/algorithms/shortest_paths/weighted.py:481\u001b[0m, in \u001b[0;36msingle_source_dijkstra\u001b[0;34m(G, source, target, cutoff, weight)\u001b[0m\n\u001b[1;32m    385\u001b[0m \u001b[39mdef\u001b[39;00m \u001b[39msingle_source_dijkstra\u001b[39m(G, source, target\u001b[39m=\u001b[39m\u001b[39mNone\u001b[39;00m, cutoff\u001b[39m=\u001b[39m\u001b[39mNone\u001b[39;00m, weight\u001b[39m=\u001b[39m\u001b[39m\"\u001b[39m\u001b[39mweight\u001b[39m\u001b[39m\"\u001b[39m):\n\u001b[1;32m    386\u001b[0m \u001b[39m    \u001b[39m\u001b[39m\"\"\"Find shortest weighted paths and lengths from a source node.\u001b[39;00m\n\u001b[1;32m    387\u001b[0m \n\u001b[1;32m    388\u001b[0m \u001b[39m    Compute the shortest path length between source and all other\u001b[39;00m\n\u001b[0;32m   (...)\u001b[0m\n\u001b[1;32m    479\u001b[0m \u001b[39m    single_source_bellman_ford\u001b[39;00m\n\u001b[1;32m    480\u001b[0m \u001b[39m    \"\"\"\u001b[39;00m\n\u001b[0;32m--> 481\u001b[0m     \u001b[39mreturn\u001b[39;00m multi_source_dijkstra(\n\u001b[1;32m    482\u001b[0m         G, {source}, cutoff\u001b[39m=\u001b[39;49mcutoff, target\u001b[39m=\u001b[39;49mtarget, weight\u001b[39m=\u001b[39;49mweight\n\u001b[1;32m    483\u001b[0m     )\n",
      "File \u001b[0;32m~/Documents/DLSU/CSC931M_ComplexSystems/csc931m-complex-systems/lib/python3.11/site-packages/networkx/algorithms/shortest_paths/weighted.py:756\u001b[0m, in \u001b[0;36mmulti_source_dijkstra\u001b[0;34m(G, sources, target, cutoff, weight)\u001b[0m\n\u001b[1;32m    754\u001b[0m     \u001b[39mreturn\u001b[39;00m (dist[target], paths[target])\n\u001b[1;32m    755\u001b[0m \u001b[39mexcept\u001b[39;00m \u001b[39mKeyError\u001b[39;00m \u001b[39mas\u001b[39;00m err:\n\u001b[0;32m--> 756\u001b[0m     \u001b[39mraise\u001b[39;00m nx\u001b[39m.\u001b[39mNetworkXNoPath(\u001b[39mf\u001b[39m\u001b[39m\"\u001b[39m\u001b[39mNo path to \u001b[39m\u001b[39m{\u001b[39;00mtarget\u001b[39m}\u001b[39;00m\u001b[39m.\u001b[39m\u001b[39m\"\u001b[39m) \u001b[39mfrom\u001b[39;00m \u001b[39merr\u001b[39;00m\n",
      "\u001b[0;31mNetworkXNoPath\u001b[0m: No path to E4."
     ]
    }
   ],
   "source": [
    "# Testing subsequence function\n",
    "disallowed_sequences = {\n",
    "    ('C3', 22, 17): 17,\n",
    "    ('C1', 9, 2): 2,\n",
    "    ('C2', 12, 11): 11,\n",
    "}\n",
    "\n",
    "sample_path = ['P3', 'C3', 22, 17, 11, 'C2', 'P2']\n",
    "\n",
    "def check_subsequence(paths):\n",
    "    paths_to_check = paths.copy()\n",
    "    for sequence, node_to_remove in disallowed_sequences.items():\n",
    "        sequence = list(sequence)\n",
    "        print(sequence)\n",
    "        n = len(sequence)\n",
    "        for i in range(len(paths_to_check)):\n",
    "            if paths[i:i+n] == sequence:\n",
    "                return True, node_to_remove\n",
    "        return False, None\n",
    "    \n",
    "origin_node = 'E3'\n",
    "next_destination_node = None\n",
    "final_destination_node = 'E4'\n",
    "\n",
    "def compute_shortest_path():\n",
    "    global next_destination_node\n",
    "    \"\"\"\n",
    "    Compute the car agent's shortest path using NetworkX's shortest_path function (default: Djikstra)\n",
    "    \"\"\"        \n",
    "    # edge_weight = tm.get_edge_weight(self.origin_node, self.final_destination_node)\n",
    "    # paths = nx.shortest_path(tm.G, self.origin_node, self.final_destination_node, weight='weight')\n",
    "    paths = nx.dijkstra_path(G, origin_node, final_destination_node, weight='weight')\n",
    "    print(f\"Paths {paths}\")\n",
    "\n",
    "    is_illegal_path, node_to_remove = check_subsequence(paths)\n",
    "    if is_illegal_path:\n",
    "        temp_G = G.copy()\n",
    "        temp_G.remove_node(node_to_remove)\n",
    "        paths = nx.dijkstra_path(temp_G, origin_node, final_destination_node, weight='weight')\n",
    "\n",
    "    # print(f\"Car {self.index} from origin: {origin_node} paths: {paths[1:]}\")\n",
    "\n",
    "    node_paths = iter(paths[1:]) #ommitting first index, since it is already the origin\n",
    "    next_destination_node = next(node_paths)\n",
    "\n",
    "print(f\"Origin: {origin_node}, Next Destination: {next_destination_node}\")\n",
    "compute_shortest_path()\n",
    "print(f\"Origin: {origin_node}, Next Destination: {next_destination_node}\")"
   ]
  },
  {
   "cell_type": "code",
   "execution_count": 63,
   "metadata": {},
   "outputs": [
    {
     "name": "stdout",
     "output_type": "stream",
     "text": [
      "Paths ['C3', 22, 21, 16, 10, 11, 'C2', 'P2']\n",
      "['C3', 22, 17]\n",
      "Origin: C3, Next Destination: 22\n"
     ]
    }
   ],
   "source": [
    "# Iteration 1\n",
    "origin_node = next_destination_node\n",
    "compute_shortest_path()\n",
    "print(f\"Origin: {origin_node}, Next Destination: {next_destination_node}\")\n",
    "\n"
   ]
  },
  {
   "cell_type": "code",
   "execution_count": 64,
   "metadata": {},
   "outputs": [
    {
     "name": "stdout",
     "output_type": "stream",
     "text": [
      "Paths [22, 21, 16, 10, 11, 'C2', 'P2']\n",
      "['C3', 22, 17]\n",
      "Origin: 22, Next Destination: 21\n"
     ]
    }
   ],
   "source": [
    "#Iteration 2\n",
    "origin_node = next_destination_node\n",
    "compute_shortest_path()\n",
    "print(f\"Origin: {origin_node}, Next Destination: {next_destination_node}\")"
   ]
  },
  {
   "cell_type": "code",
   "execution_count": 65,
   "metadata": {},
   "outputs": [
    {
     "name": "stdout",
     "output_type": "stream",
     "text": [
      "Paths [21, 16, 10, 11, 'C2', 'P2']\n",
      "['C3', 22, 17]\n",
      "Origin: 21, Next Destination: 16\n"
     ]
    }
   ],
   "source": [
    "#Iteration 3\n",
    "origin_node = next_destination_node\n",
    "compute_shortest_path()\n",
    "print(f\"Origin: {origin_node}, Next Destination: {next_destination_node}\")"
   ]
  },
  {
   "cell_type": "code",
   "execution_count": null,
   "metadata": {},
   "outputs": [],
   "source": []
  }
 ],
 "metadata": {
  "kernelspec": {
   "display_name": "csc931m-complex-systems",
   "language": "python",
   "name": "python3"
  },
  "language_info": {
   "codemirror_mode": {
    "name": "ipython",
    "version": 3
   },
   "file_extension": ".py",
   "mimetype": "text/x-python",
   "name": "python",
   "nbconvert_exporter": "python",
   "pygments_lexer": "ipython3",
   "version": "3.11.0"
  },
  "orig_nbformat": 4
 },
 "nbformat": 4,
 "nbformat_minor": 2
}
